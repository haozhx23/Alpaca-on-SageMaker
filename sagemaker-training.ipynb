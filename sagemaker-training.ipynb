{
 "cells": [
  {
   "cell_type": "code",
   "execution_count": null,
   "id": "5898f9b7",
   "metadata": {
    "scrolled": true
   },
   "outputs": [],
   "source": [
    "## notebook instance - ml.c5.xlarge; jupyter kernel - conda_python3\n",
    "## Update sagemaker python sdk version\n",
    "!pip install -U sagemaker\n",
    "\n",
    "# restart kernel after installation"
   ]
  },
  {
   "cell_type": "markdown",
   "id": "e222afa6-0c82-4579-87d8-6bd0475b3f49",
   "metadata": {},
   "source": [
    "## Set code"
   ]
  },
  {
   "cell_type": "code",
   "execution_count": 1,
   "id": "8846e1b3-e6e3-4a53-9e6a-743e01541671",
   "metadata": {
    "tags": []
   },
   "outputs": [],
   "source": [
    "!rm -rf src\n",
    "!mkdir src"
   ]
  },
  {
   "cell_type": "code",
   "execution_count": 2,
   "id": "8de03012",
   "metadata": {
    "tags": []
   },
   "outputs": [
    {
     "name": "stdout",
     "output_type": "stream",
     "text": [
      "Cloning into 'stanford_alpaca'...\n",
      "remote: Enumerating objects: 129, done.\u001b[K\n",
      "remote: Counting objects: 100% (75/75), done.\u001b[K\n",
      "remote: Compressing objects: 100% (25/25), done.\u001b[K\n",
      "remote: Total 129 (delta 57), reused 50 (delta 50), pack-reused 54\u001b[K\n",
      "Receiving objects: 100% (129/129), 9.14 MiB | 5.98 MiB/s, done.\n",
      "Resolving deltas: 100% (62/62), done.\n"
     ]
    }
   ],
   "source": [
    "# download training script from github\n",
    "!cd src && git clone https://github.com/tatsu-lab/stanford_alpaca.git"
   ]
  },
  {
   "cell_type": "markdown",
   "id": "c0322e5a-8c7e-4188-a78c-29bcd0b81b77",
   "metadata": {},
   "source": [
    "##### Modify Deepspeed config to save model properply.\n",
    "Set ```stage3_gather_16bit_weights_on_model_save``` to ```Ture``` if necessary."
   ]
  },
  {
   "cell_type": "code",
   "execution_count": 3,
   "id": "eef14fbd-c255-4993-8d27-f36632a57621",
   "metadata": {},
   "outputs": [],
   "source": [
    "import json\n",
    "\n",
    "ds_config_file = './src/stanford_alpaca/configs/default_offload_opt_param.json'\n",
    "with open (ds_config_file, 'rb') as f:\n",
    "    ds_config = json.load(f)\n",
    "    f.close()\n",
    "\n",
    "ds_config['zero_optimization']['stage3_gather_16bit_weights_on_model_save'] = True\n",
    "\n",
    "with open(ds_config_file, 'w') as f:\n",
    "    json.dump(ds_config, f, indent=2)\n",
    "    f.close()"
   ]
  },
  {
   "cell_type": "code",
   "execution_count": 4,
   "id": "51bf3fab-4cac-442c-80ee-508ef713f156",
   "metadata": {
    "tags": []
   },
   "outputs": [
    {
     "name": "stdout",
     "output_type": "stream",
     "text": [
      "  % Total    % Received % Xferd  Average Speed   Time    Time     Time  Current\n",
      "                                 Dload  Upload   Total   Spent    Left  Speed\n",
      "  0     0    0     0    0     0      0      0 --:--:-- --:--:-- --:--:--     0\n",
      "100 4176k  100 4176k    0     0  19.4M      0 --:--:-- --:--:-- --:--:-- 19.4M\n"
     ]
    }
   ],
   "source": [
    "# download s5cmd\n",
    "!curl -L https://github.com/peak/s5cmd/releases/download/v2.0.0/s5cmd_2.0.0_Linux-64bit.tar.gz | tar -xz"
   ]
  },
  {
   "cell_type": "code",
   "execution_count": 3,
   "id": "c6115413-2366-4d08-b935-d771151ea658",
   "metadata": {
    "tags": []
   },
   "outputs": [],
   "source": [
    "!cp s5cmd src/\n",
    "!cp entry.py src/\n",
    "!cp requirements.txt src/\n",
    "!cp train.sh src/\n",
    "## Replace original train.py\n",
    "!cp train.py src/stanford_alpaca/"
   ]
  },
  {
   "cell_type": "markdown",
   "id": "e1dc9fb0-5e0e-4622-8cab-8d68ad58fbad",
   "metadata": {},
   "source": [
    "## Optional - Put data to s3"
   ]
  },
  {
   "cell_type": "code",
   "execution_count": null,
   "id": "56485d3a-f0e3-4ab7-826c-99bb94c95609",
   "metadata": {
    "tags": []
   },
   "outputs": [],
   "source": [
    "#!./s5cmd sync <source_path> <destination_path>\n",
    "# !aws s3 cp ./src/stanford_alpaca/alpaca_data.json s3://<SOME-BUCKET-NAME>/datasets/alpaca-coig-mix/"
   ]
  },
  {
   "cell_type": "markdown",
   "id": "4b139966-523e-4a0b-91d4-999a4cd22368",
   "metadata": {},
   "source": [
    "## Launch training"
   ]
  },
  {
   "cell_type": "code",
   "execution_count": 8,
   "id": "94bde2ac-151b-4bc8-8cd2-2164e9998fcf",
   "metadata": {},
   "outputs": [],
   "source": [
    "import sagemaker\n",
    "import boto3\n",
    "from sagemaker import get_execution_role\n",
    "\n",
    "sess = sagemaker.Session()\n",
    "role = get_execution_role()\n",
    "sagemaker_default_bucket = sess.default_bucket()\n",
    "region = sess.boto_session.region_name"
   ]
  },
  {
   "cell_type": "code",
   "execution_count": null,
   "id": "69b199e5",
   "metadata": {
    "scrolled": true,
    "tags": []
   },
   "outputs": [
    {
     "name": "stdout",
     "output_type": "stream",
     "text": [
      "Using provided s3_resource\n"
     ]
    },
    {
     "name": "stderr",
     "output_type": "stream",
     "text": [
      "INFO:sagemaker:Creating training-job with name: multi-node-alpaca-train-2023-07-31-08-23-11-394\n"
     ]
    },
    {
     "name": "stdout",
     "output_type": "stream",
     "text": [
      "2023-07-31 08:23:16 Starting - Starting the training job......\n",
      "2023-07-31 08:23:53 Starting - Preparing the instances for training.............\u001b[34m1%|          | 7/609 [02:24<3:24:59, 20.43s/it]\u001b[0m\n",
      "\u001b[34m1%|▏         | 8/609 [02:44<3:24:27, 20.41s/it]\u001b[0m\n",
      "\u001b[34m1%|▏         | 9/609 [03:05<3:23:52, 20.39s/it]\u001b[0m\n",
      "\u001b[34m2%|▏         | 10/609 [03:25<3:23:36, 20.40s/it]\u001b[0m\n",
      "\u001b[34m2%|▏         | 11/609 [03:45<3:22:46, 20.35s/it]\u001b[0m\n",
      "\u001b[34m2%|▏         | 12/609 [04:06<3:22:48, 20.38s/it]\u001b[0m\n",
      "\u001b[34m2%|▏         | 13/609 [04:26<3:23:07, 20.45s/it]\u001b[0m\n",
      "\u001b[34m2%|▏         | 14/609 [04:46<3:21:59, 20.37s/it]\u001b[0m\n",
      "\u001b[34m2%|▏         | 15/609 [05:07<3:20:53, 20.29s/it]\u001b[0m\n",
      "\u001b[34m3%|▎         | 16/609 [05:27<3:20:27, 20.28s/it]\u001b[0m\n",
      "\u001b[34m3%|▎         | 17/609 [05:47<3:20:02, 20.28s/it]\u001b[0m\n",
      "\u001b[34m3%|▎         | 18/609 [06:07<3:19:59, 20.30s/it]\u001b[0m\n",
      "\u001b[34m3%|▎         | 19/609 [06:28<3:19:50, 20.32s/it]\u001b[0m\n",
      "\u001b[34m3%|▎         | 20/609 [06:48<3:20:06, 20.38s/it]\u001b[0m\n",
      "\u001b[34m3%|▎         | 21/609 [07:09<3:20:07, 20.42s/it]\u001b[0m\n",
      "\u001b[34m4%|▎         | 22/609 [07:29<3:19:31, 20.40s/it]\u001b[0m\n",
      "\u001b[34m4%|▍         | 23/609 [07:49<3:18:45, 20.35s/it]\u001b[0m\n",
      "\u001b[34m4%|▍         | 24/609 [08:10<3:18:18, 20.34s/it]\u001b[0m\n",
      "\u001b[34m4%|▍         | 25/609 [08:30<3:18:24, 20.38s/it]\u001b[0m\n",
      "\u001b[34m4%|▍         | 26/609 [08:51<3:18:21, 20.41s/it]\u001b[0m\n",
      "\u001b[34m4%|▍         | 27/609 [09:11<3:18:38, 20.48s/it]\u001b[0m\n",
      "\u001b[34m5%|▍         | 28/609 [09:32<3:18:52, 20.54s/it]\u001b[0m\n",
      "\u001b[34m5%|▍         | 29/609 [09:53<3:19:00, 20.59s/it]\u001b[0m\n",
      "\u001b[34m5%|▍         | 30/609 [10:13<3:18:04, 20.53s/it]\u001b[0m\n",
      "\u001b[34m5%|▌         | 31/609 [10:34<3:18:05, 20.56s/it]\u001b[0m\n",
      "\u001b[34m5%|▌         | 32/609 [10:54<3:17:13, 20.51s/it]\u001b[0m\n",
      "\u001b[34m5%|▌         | 33/609 [11:15<3:16:34, 20.48s/it]\u001b[0m\n",
      "\u001b[34m6%|▌         | 34/609 [11:35<3:16:21, 20.49s/it]\u001b[0m\n",
      "\u001b[34m6%|▌         | 35/609 [11:56<3:16:04, 20.50s/it]\u001b[0m\n",
      "\u001b[34m6%|▌         | 36/609 [12:16<3:16:41, 20.60s/it]\u001b[0m\n",
      "\u001b[34m6%|▌         | 37/609 [12:37<3:15:35, 20.52s/it]\u001b[0m\n",
      "\u001b[34m6%|▌         | 38/609 [12:57<3:14:53, 20.48s/it]\u001b[0m\n",
      "\u001b[34m6%|▋         | 39/609 [13:18<3:14:15, 20.45s/it]\u001b[0m\n",
      "\u001b[34m7%|▋         | 40/609 [13:38<3:13:49, 20.44s/it]\u001b[0m\n",
      "\u001b[34m7%|▋         | 41/609 [13:59<3:14:00, 20.49s/it]\u001b[0m\n",
      "\u001b[34m7%|▋         | 42/609 [14:19<3:14:01, 20.53s/it]\u001b[0m\n",
      "\u001b[34m7%|▋         | 43/609 [14:40<3:13:48, 20.54s/it]\u001b[0m\n",
      "\u001b[34m7%|▋         | 44/609 [15:01<3:14:26, 20.65s/it]\u001b[0m\n",
      "\u001b[34m7%|▋         | 45/609 [15:21<3:13:28, 20.58s/it]\u001b[0m\n",
      "\u001b[34m8%|▊         | 46/609 [15:42<3:12:53, 20.56s/it]\u001b[0m\n",
      "\u001b[34m8%|▊         | 47/609 [16:02<3:12:20, 20.53s/it]\u001b[0m\n",
      "\u001b[34m8%|▊         | 48/609 [16:23<3:12:25, 20.58s/it]\u001b[0m\n",
      "\u001b[34m8%|▊         | 49/609 [16:43<3:12:19, 20.61s/it]\u001b[0m\n",
      "\u001b[34m8%|▊         | 50/609 [17:04<3:12:03, 20.61s/it]\u001b[0m\n",
      "\u001b[34m8%|▊         | 51/609 [17:25<3:12:04, 20.65s/it]\u001b[0m\n",
      "\u001b[34m9%|▊         | 52/609 [17:45<3:11:45, 20.66s/it]\u001b[0m\n",
      "\u001b[34m9%|▊         | 53/609 [18:06<3:11:16, 20.64s/it]\u001b[0m\n",
      "\u001b[34m9%|▉         | 54/609 [18:27<3:10:37, 20.61s/it]\u001b[0m\n",
      "\u001b[34m9%|▉         | 55/609 [18:47<3:09:39, 20.54s/it]\u001b[0m\n",
      "\u001b[34m9%|▉         | 56/609 [19:07<3:08:52, 20.49s/it]\u001b[0m\n",
      "\u001b[34m9%|▉         | 57/609 [19:28<3:08:10, 20.45s/it]\u001b[0m\n",
      "\u001b[34m10%|▉         | 58/609 [19:48<3:08:18, 20.51s/it]\u001b[0m\n",
      "\u001b[34m10%|▉         | 59/609 [20:09<3:08:43, 20.59s/it]\u001b[0m\n",
      "\u001b[34m10%|▉         | 60/609 [20:30<3:09:16, 20.69s/it]\u001b[0m\n",
      "\u001b[34m10%|█         | 61/609 [20:51<3:08:29, 20.64s/it]\u001b[0m\n",
      "\u001b[34m10%|█         | 62/609 [21:11<3:07:52, 20.61s/it]\u001b[0m\n",
      "\u001b[34m10%|█         | 63/609 [21:32<3:07:15, 20.58s/it]\u001b[0m\n",
      "\u001b[34m11%|█         | 64/609 [21:52<3:06:41, 20.55s/it]\u001b[0m\n",
      "\u001b[34m11%|█         | 65/609 [22:13<3:06:19, 20.55s/it]\u001b[0m\n",
      "\u001b[34m11%|█         | 66/609 [22:33<3:05:56, 20.55s/it]\u001b[0m\n",
      "\u001b[34m11%|█         | 67/609 [22:54<3:05:45, 20.56s/it]\u001b[0m\n",
      "\u001b[34m11%|█         | 68/609 [23:14<3:05:46, 20.60s/it]\u001b[0m\n",
      "\u001b[34m11%|█▏        | 69/609 [23:35<3:05:00, 20.56s/it]\u001b[0m\n",
      "\u001b[34m11%|█▏        | 70/609 [23:55<3:04:34, 20.55s/it]\u001b[0m\n",
      "\u001b[34m12%|█▏        | 71/609 [24:16<3:04:21, 20.56s/it]\u001b[0m\n",
      "\u001b[34m12%|█▏        | 72/609 [24:37<3:03:56, 20.55s/it]\u001b[0m\n",
      "\u001b[34m12%|█▏        | 73/609 [24:57<3:03:19, 20.52s/it]\u001b[0m\n",
      "\u001b[34m12%|█▏        | 74/609 [25:18<3:03:11, 20.54s/it]\u001b[0m\n",
      "\u001b[34m12%|█▏        | 75/609 [25:38<3:03:14, 20.59s/it]\u001b[0m\n",
      "\u001b[34m12%|█▏        | 76/609 [25:59<3:03:05, 20.61s/it]\u001b[0m\n",
      "\u001b[34m13%|█▎        | 77/609 [26:19<3:02:28, 20.58s/it]\u001b[0m\n",
      "\u001b[34m13%|█▎        | 78/609 [26:40<3:02:00, 20.57s/it]\u001b[0m\n",
      "\u001b[34m13%|█▎        | 79/609 [27:00<3:01:24, 20.54s/it]\u001b[0m\n",
      "\u001b[34m13%|█▎        | 80/609 [27:21<3:00:31, 20.48s/it]\u001b[0m\n",
      "\u001b[34m13%|█▎        | 81/609 [27:41<3:00:11, 20.48s/it]\u001b[0m\n",
      "\u001b[34m13%|█▎        | 82/609 [28:02<2:59:43, 20.46s/it]\u001b[0m\n",
      "\u001b[34m14%|█▎        | 83/609 [28:23<3:00:20, 20.57s/it]\u001b[0m\n",
      "\u001b[34m14%|█▍        | 84/609 [28:43<3:00:29, 20.63s/it]\u001b[0m\n",
      "\u001b[34m14%|█▍        | 85/609 [29:04<3:00:27, 20.66s/it]\u001b[0m\n",
      "\u001b[34m14%|█▍        | 86/609 [29:25<2:59:59, 20.65s/it]\u001b[0m\n",
      "\u001b[34m14%|█▍        | 87/609 [29:45<2:59:38, 20.65s/it]\u001b[0m\n",
      "\u001b[34m14%|█▍        | 88/609 [30:06<2:59:23, 20.66s/it]\u001b[0m\n",
      "\u001b[34m15%|█▍        | 89/609 [30:27<2:59:01, 20.66s/it]\u001b[0m\n",
      "\u001b[34m15%|█▍        | 90/609 [30:47<2:58:27, 20.63s/it]\u001b[0m\n",
      "\u001b[34m15%|█▍        | 91/609 [31:08<2:58:38, 20.69s/it]\u001b[0m\n",
      "\u001b[34m15%|█▌        | 92/609 [31:29<2:58:52, 20.76s/it]\u001b[0m\n",
      "\u001b[34m15%|█▌        | 93/609 [31:49<2:57:46, 20.67s/it]\u001b[0m\n",
      "\u001b[34m15%|█▌        | 94/609 [32:10<2:57:18, 20.66s/it]\u001b[0m\n",
      "\u001b[34m16%|█▌        | 95/609 [32:31<2:56:36, 20.62s/it]\u001b[0m\n",
      "\u001b[34m16%|█▌        | 96/609 [32:51<2:56:35, 20.65s/it]\u001b[0m\n",
      "\u001b[34m16%|█▌        | 97/609 [33:12<2:56:23, 20.67s/it]\u001b[0m\n",
      "\u001b[34m16%|█▌        | 98/609 [33:33<2:55:47, 20.64s/it]\u001b[0m\n",
      "\u001b[34m16%|█▋        | 99/609 [33:53<2:56:01, 20.71s/it]\u001b[0m\n",
      "\u001b[34m16%|█▋        | 100/609 [34:14<2:55:11, 20.65s/it]\u001b[0m\n",
      "\u001b[34m17%|█▋        | 101/609 [34:34<2:54:18, 20.59s/it]\u001b[0m\n",
      "\u001b[34m17%|█▋        | 102/609 [34:55<2:53:48, 20.57s/it]\u001b[0m\n",
      "\u001b[34m17%|█▋        | 103/609 [35:15<2:53:07, 20.53s/it]\u001b[0m\n",
      "\u001b[34m17%|█▋        | 104/609 [35:36<2:52:45, 20.52s/it]\u001b[0m\n",
      "\u001b[34m17%|█▋        | 105/609 [35:56<2:52:18, 20.51s/it]\u001b[0m\n",
      "\u001b[34m17%|█▋        | 106/609 [36:17<2:52:38, 20.59s/it]\u001b[0m\n",
      "\u001b[34m18%|█▊        | 107/609 [36:38<2:52:36, 20.63s/it]\u001b[0m\n",
      "\u001b[34m18%|█▊        | 108/609 [36:58<2:51:40, 20.56s/it]\u001b[0m\n",
      "\u001b[34m18%|█▊        | 109/609 [37:19<2:51:01, 20.52s/it]\u001b[0m\n",
      "\u001b[34m18%|█▊        | 110/609 [37:39<2:50:25, 20.49s/it]\u001b[0m\n",
      "\u001b[34m18%|█▊        | 111/609 [38:00<2:50:09, 20.50s/it]\u001b[0m\n",
      "\u001b[34m18%|█▊        | 112/609 [38:20<2:50:00, 20.52s/it]\u001b[0m\n",
      "\u001b[34m19%|█▊        | 113/609 [38:41<2:49:47, 20.54s/it]\u001b[0m\n",
      "\u001b[34m19%|█▊        | 114/609 [39:02<2:50:00, 20.61s/it]\u001b[0m\n",
      "\u001b[34m19%|█▉        | 115/609 [39:22<2:49:45, 20.62s/it]\u001b[0m\n",
      "\u001b[34m19%|█▉        | 116/609 [39:43<2:49:06, 20.58s/it]\u001b[0m\n",
      "\u001b[34m19%|█▉        | 117/609 [40:03<2:48:30, 20.55s/it]\u001b[0m\n",
      "\u001b[34m19%|█▉        | 118/609 [40:24<2:48:05, 20.54s/it]\u001b[0m\n",
      "\u001b[34m20%|█▉        | 119/609 [40:44<2:47:34, 20.52s/it]\u001b[0m\n",
      "\u001b[34m20%|█▉        | 120/609 [41:05<2:46:57, 20.49s/it]\u001b[0m\n",
      "\u001b[34m20%|█▉        | 121/609 [41:25<2:46:40, 20.49s/it]\u001b[0m\n",
      "\u001b[34m20%|██        | 122/609 [41:46<2:46:36, 20.53s/it]\u001b[0m\n",
      "\u001b[34m20%|██        | 123/609 [42:06<2:46:17, 20.53s/it]\u001b[0m\n",
      "\u001b[34m20%|██        | 124/609 [42:27<2:45:33, 20.48s/it]\u001b[0m\n",
      "\u001b[34m21%|██        | 125/609 [42:47<2:45:08, 20.47s/it]\u001b[0m\n",
      "\u001b[34m21%|██        | 126/609 [43:08<2:44:53, 20.48s/it]\u001b[0m\n",
      "\u001b[34m21%|██        | 127/609 [43:28<2:44:34, 20.49s/it]\u001b[0m\n",
      "\u001b[34m21%|██        | 128/609 [43:49<2:44:06, 20.47s/it]\u001b[0m\n",
      "\u001b[34m21%|██        | 129/609 [44:09<2:44:00, 20.50s/it]\u001b[0m\n",
      "\u001b[34m21%|██▏       | 130/609 [44:30<2:44:25, 20.60s/it]\u001b[0m\n",
      "\u001b[34m22%|██▏       | 131/609 [44:51<2:44:15, 20.62s/it]\u001b[0m\n",
      "\u001b[34m22%|██▏       | 132/609 [45:11<2:43:36, 20.58s/it]\u001b[0m\n",
      "\u001b[34m22%|██▏       | 133/609 [45:31<2:42:44, 20.51s/it]\u001b[0m\n",
      "\u001b[34m22%|██▏       | 134/609 [45:52<2:42:14, 20.49s/it]\u001b[0m\n",
      "\u001b[34m22%|██▏       | 135/609 [46:12<2:42:09, 20.53s/it]\u001b[0m\n",
      "\u001b[34m22%|██▏       | 136/609 [46:33<2:41:50, 20.53s/it]\u001b[0m\n",
      "\u001b[34m22%|██▏       | 137/609 [46:54<2:41:35, 20.54s/it]\u001b[0m\n",
      "\u001b[34m23%|██▎       | 138/609 [47:14<2:41:17, 20.55s/it]\u001b[0m\n",
      "\u001b[34m23%|██▎       | 139/609 [47:35<2:41:46, 20.65s/it]\u001b[0m\n",
      "\u001b[34m23%|██▎       | 140/609 [47:56<2:41:08, 20.62s/it]\u001b[0m\n",
      "\u001b[34m23%|██▎       | 141/609 [48:16<2:40:38, 20.60s/it]\u001b[0m\n",
      "\u001b[34m23%|██▎       | 142/609 [48:36<2:39:43, 20.52s/it]\u001b[0m\n",
      "\u001b[34m23%|██▎       | 143/609 [48:57<2:39:33, 20.54s/it]\u001b[0m\n",
      "\u001b[34m24%|██▎       | 144/609 [49:18<2:39:05, 20.53s/it]\u001b[0m\n",
      "\u001b[34m24%|██▍       | 145/609 [49:38<2:38:41, 20.52s/it]\u001b[0m\n",
      "\u001b[34m24%|██▍       | 146/609 [49:59<2:38:38, 20.56s/it]\u001b[0m\n",
      "\u001b[34m24%|██▍       | 147/609 [50:20<2:38:56, 20.64s/it]\u001b[0m\n",
      "\u001b[34m24%|██▍       | 148/609 [50:40<2:38:26, 20.62s/it]\u001b[0m\n",
      "\u001b[34m24%|██▍       | 149/609 [51:01<2:38:02, 20.61s/it]\u001b[0m\n",
      "\u001b[34m25%|██▍       | 150/609 [51:21<2:37:32, 20.59s/it]\u001b[0m\n",
      "\u001b[34m25%|██▍       | 151/609 [51:42<2:36:58, 20.57s/it]\u001b[0m\n",
      "\u001b[34m25%|██▍       | 152/609 [52:02<2:36:35, 20.56s/it]\u001b[0m\n",
      "\u001b[34m25%|██▌       | 153/609 [52:23<2:36:22, 20.58s/it]\u001b[0m\n",
      "\u001b[34m25%|██▌       | 154/609 [52:44<2:36:18, 20.61s/it]\u001b[0m\n",
      "\u001b[34m25%|██▌       | 155/609 [53:04<2:36:20, 20.66s/it]\u001b[0m\n",
      "\u001b[34m26%|██▌       | 156/609 [53:25<2:36:00, 20.66s/it]\u001b[0m\n",
      "\u001b[34m26%|██▌       | 157/609 [53:46<2:35:14, 20.61s/it]\u001b[0m\n",
      "\u001b[34m26%|██▌       | 158/609 [54:06<2:35:03, 20.63s/it]\u001b[0m\n",
      "\u001b[34m26%|██▌       | 159/609 [54:27<2:34:30, 20.60s/it]\u001b[0m\n",
      "\u001b[34m26%|██▋       | 160/609 [54:47<2:34:02, 20.59s/it]\u001b[0m\n",
      "\u001b[34m26%|██▋       | 161/609 [55:08<2:33:39, 20.58s/it]\u001b[0m\n",
      "\u001b[34m27%|██▋       | 162/609 [55:29<2:34:16, 20.71s/it]\u001b[0m\n",
      "\u001b[34m27%|██▋       | 163/609 [55:49<2:33:24, 20.64s/it]\u001b[0m\n",
      "\u001b[34m27%|██▋       | 164/609 [56:10<2:33:04, 20.64s/it]\u001b[0m\n",
      "\u001b[34m27%|██▋       | 165/609 [56:30<2:32:13, 20.57s/it]\u001b[0m\n",
      "\u001b[34m27%|██▋       | 166/609 [56:51<2:31:36, 20.53s/it]\u001b[0m\n",
      "\u001b[34m27%|██▋       | 167/609 [57:11<2:31:22, 20.55s/it]\u001b[0m\n",
      "\u001b[34m28%|██▊       | 168/609 [57:32<2:30:57, 20.54s/it]\u001b[0m\n",
      "\u001b[34m28%|██▊       | 169/609 [57:53<2:31:00, 20.59s/it]\u001b[0m\n",
      "\u001b[34m28%|██▊       | 170/609 [58:13<2:31:00, 20.64s/it]\u001b[0m\n",
      "\u001b[34m28%|██▊       | 171/609 [58:34<2:30:41, 20.64s/it]\u001b[0m\n",
      "\u001b[34m28%|██▊       | 172/609 [58:55<2:30:06, 20.61s/it]\u001b[0m\n",
      "\u001b[34m28%|██▊       | 173/609 [59:15<2:29:35, 20.59s/it]\u001b[0m\n",
      "\u001b[34m29%|██▊       | 174/609 [59:36<2:29:08, 20.57s/it]\u001b[0m\n",
      "\u001b[34m29%|██▊       | 175/609 [59:56<2:28:31, 20.53s/it]\u001b[0m\n",
      "\u001b[34m29%|██▉       | 176/609 [1:00:17<2:28:09, 20.53s/it]\u001b[0m\n",
      "\u001b[34m29%|██▉       | 177/609 [1:00:37<2:28:21, 20.61s/it]\u001b[0m\n",
      "\u001b[34m29%|██▉       | 178/609 [1:00:58<2:28:29, 20.67s/it]\u001b[0m\n",
      "\u001b[34m29%|██▉       | 179/609 [1:01:19<2:27:39, 20.60s/it]\u001b[0m\n",
      "\u001b[34m30%|██▉       | 180/609 [1:01:39<2:26:47, 20.53s/it]\u001b[0m\n",
      "\u001b[34m30%|██▉       | 181/609 [1:01:59<2:26:08, 20.49s/it]\u001b[0m\n",
      "\u001b[34m30%|██▉       | 182/609 [1:02:20<2:25:55, 20.50s/it]\u001b[0m\n",
      "\u001b[34m30%|███       | 183/609 [1:02:41<2:26:02, 20.57s/it]\u001b[0m\n",
      "\u001b[34m30%|███       | 184/609 [1:03:01<2:25:42, 20.57s/it]\u001b[0m\n",
      "\u001b[34m30%|███       | 185/609 [1:03:22<2:25:26, 20.58s/it]\u001b[0m\n",
      "\u001b[34m31%|███       | 186/609 [1:03:43<2:25:14, 20.60s/it]\u001b[0m\n",
      "\u001b[34m31%|███       | 187/609 [1:04:03<2:24:42, 20.58s/it]\u001b[0m\n",
      "\u001b[34m31%|███       | 188/609 [1:04:24<2:24:25, 20.58s/it]\u001b[0m\n",
      "\u001b[34m31%|███       | 189/609 [1:04:44<2:23:44, 20.53s/it]\u001b[0m\n",
      "\u001b[34m31%|███       | 190/609 [1:05:05<2:23:15, 20.52s/it]\u001b[0m\n",
      "\u001b[34m31%|███▏      | 191/609 [1:05:25<2:23:09, 20.55s/it]\u001b[0m\n",
      "\u001b[34m32%|███▏      | 192/609 [1:05:46<2:22:33, 20.51s/it]\u001b[0m\n",
      "\u001b[34m32%|███▏      | 193/609 [1:06:06<2:22:31, 20.56s/it]\u001b[0m\n",
      "\u001b[34m32%|███▏      | 194/609 [1:06:27<2:22:46, 20.64s/it]\u001b[0m\n",
      "\u001b[34m32%|███▏      | 195/609 [1:06:48<2:22:01, 20.58s/it]\u001b[0m\n",
      "\u001b[34m32%|███▏      | 196/609 [1:07:08<2:21:49, 20.60s/it]\u001b[0m\n",
      "\u001b[34m32%|███▏      | 197/609 [1:07:29<2:21:25, 20.59s/it]\u001b[0m\n",
      "\u001b[34m33%|███▎      | 198/609 [1:07:49<2:20:54, 20.57s/it]\u001b[0m\n",
      "\u001b[34m33%|███▎      | 199/609 [1:08:10<2:20:47, 20.60s/it]\u001b[0m\n",
      "\u001b[34m33%|███▎      | 200/609 [1:08:31<2:20:22, 20.59s/it]\u001b[0m\n",
      "\u001b[34m33%|███▎      | 201/609 [1:08:51<2:19:59, 20.59s/it]\u001b[0m\n",
      "\u001b[34m33%|███▎      | 202/609 [1:09:12<2:20:00, 20.64s/it]\u001b[0m\n",
      "\u001b[34m33%|███▎      | 203/609 [1:09:32<2:19:33, 20.63s/it]\u001b[0m\n",
      "\u001b[34m33%|███▎      | 204/609 [1:09:53<2:19:23, 20.65s/it]\u001b[0m\n",
      "\u001b[34m34%|███▎      | 205/609 [1:10:14<2:18:35, 20.58s/it]\u001b[0m\n",
      "\u001b[34m34%|███▍      | 206/609 [1:10:34<2:18:17, 20.59s/it]\u001b[0m\n",
      "\u001b[34m34%|███▍      | 207/609 [1:10:54<2:17:23, 20.51s/it]\u001b[0m\n",
      "\u001b[34m34%|███▍      | 208/609 [1:11:15<2:17:06, 20.51s/it]\u001b[0m\n",
      "\u001b[34m34%|███▍      | 209/609 [1:11:36<2:17:09, 20.57s/it]\u001b[0m\n",
      "\u001b[34m34%|███▍      | 210/609 [1:11:56<2:17:02, 20.61s/it]\u001b[0m\n",
      "\u001b[34m35%|███▍      | 211/609 [1:12:17<2:16:34, 20.59s/it]\u001b[0m\n",
      "\u001b[34m35%|███▍      | 212/609 [1:12:37<2:16:06, 20.57s/it]\u001b[0m\n",
      "\u001b[34m35%|███▍      | 213/609 [1:12:58<2:15:32, 20.54s/it]\u001b[0m\n",
      "\u001b[34m35%|███▌      | 214/609 [1:13:18<2:14:59, 20.51s/it]\u001b[0m\n",
      "\u001b[34m35%|███▌      | 215/609 [1:13:39<2:14:57, 20.55s/it]\u001b[0m\n",
      "\u001b[34m35%|███▌      | 216/609 [1:14:00<2:14:39, 20.56s/it]\u001b[0m\n",
      "\u001b[34m36%|███▌      | 217/609 [1:14:20<2:14:23, 20.57s/it]\u001b[0m\n",
      "\u001b[34m36%|███▌      | 218/609 [1:14:41<2:14:22, 20.62s/it]\u001b[0m\n",
      "\u001b[34m36%|███▌      | 219/609 [1:15:01<2:13:40, 20.56s/it]\u001b[0m\n",
      "\u001b[34m36%|███▌      | 220/609 [1:15:22<2:13:23, 20.57s/it]\u001b[0m\n",
      "\u001b[34m36%|███▋      | 221/609 [1:15:42<2:12:46, 20.53s/it]\u001b[0m\n",
      "\u001b[34m36%|███▋      | 222/609 [1:16:03<2:12:23, 20.53s/it]\u001b[0m\n",
      "\u001b[34m37%|███▋      | 223/609 [1:16:24<2:12:07, 20.54s/it]\u001b[0m\n",
      "\u001b[34m37%|███▋      | 224/609 [1:16:44<2:11:36, 20.51s/it]\u001b[0m\n",
      "\u001b[34m37%|███▋      | 225/609 [1:17:05<2:12:11, 20.66s/it]\u001b[0m\n",
      "\u001b[34m37%|███▋      | 226/609 [1:17:25<2:11:20, 20.58s/it]\u001b[0m\n",
      "\u001b[34m37%|███▋      | 227/609 [1:17:46<2:10:51, 20.55s/it]\u001b[0m\n",
      "\u001b[34m37%|███▋      | 228/609 [1:18:06<2:10:20, 20.53s/it]\u001b[0m\n",
      "\u001b[34m38%|███▊      | 229/609 [1:18:27<2:10:03, 20.53s/it]\u001b[0m\n",
      "\u001b[34m38%|███▊      | 230/609 [1:18:47<2:09:50, 20.56s/it]\u001b[0m\n",
      "\u001b[34m38%|███▊      | 231/609 [1:19:08<2:09:20, 20.53s/it]\u001b[0m\n",
      "\u001b[34m38%|███▊      | 232/609 [1:19:29<2:09:17, 20.58s/it]\u001b[0m\n",
      "\u001b[34m38%|███▊      | 233/609 [1:19:49<2:09:16, 20.63s/it]\u001b[0m\n",
      "\u001b[34m38%|███▊      | 234/609 [1:20:10<2:08:49, 20.61s/it]\u001b[0m\n",
      "\u001b[34m39%|███▊      | 235/609 [1:20:30<2:08:15, 20.58s/it]\u001b[0m\n",
      "\u001b[34m39%|███▉      | 236/609 [1:20:51<2:07:44, 20.55s/it]\u001b[0m\n",
      "\u001b[34m39%|███▉      | 237/609 [1:21:11<2:07:13, 20.52s/it]\u001b[0m\n",
      "\u001b[34m39%|███▉      | 238/609 [1:21:32<2:06:48, 20.51s/it]\u001b[0m\n",
      "\u001b[34m39%|███▉      | 239/609 [1:21:52<2:06:32, 20.52s/it]\u001b[0m\n",
      "\u001b[34m39%|███▉      | 240/609 [1:22:13<2:06:29, 20.57s/it]\u001b[0m\n",
      "\u001b[34m40%|███▉      | 241/609 [1:22:34<2:06:21, 20.60s/it]\u001b[0m\n"
     ]
    }
   ],
   "source": [
    "import time\n",
    "from sagemaker.estimator import Estimator\n",
    "\n",
    "## pre-built docker in https://github.com/aws/deep-learning-containers/blob/master/available_images.md\n",
    "# image_uri = '763104351884.dkr.ecr.us-east-1.amazonaws.com/pytorch-training:2.0.0-gpu-py310-cu118-ubuntu20.04-sagemaker'\n",
    "image_uri = '763104351884.dkr.ecr.us-east-1.amazonaws.com/pytorch-training:1.13.1-gpu-py39-cu117-ubuntu20.04-sagemaker'\n",
    "# image_uri = \"763104351884.dkr.ecr.us-east-1.amazonaws.com/huggingface-pytorch-training:1.13.1-transformers4.26.0-gpu-py39-cu117-ubuntu20.04\"\n",
    "\n",
    "instance_count = 1\n",
    "instance_type = 'ml.p4d.24xlarge' ## p4d - 8*40G / p4de - 8*80G\n",
    "\n",
    "environment = {\n",
    "    'NODE_NUMBER':str(instance_count),\n",
    "    'MODEL_S3_PATH': 's3://llm-artifacts-us-east-1/bloke-llama2-7b-fp16/*', # source model files\n",
    "    'OUTPUT_MODEL_S3_PATH': 's3://llm-artifacts-us-east-1/output-models/bloke-llama2-7b-fp16/', # destination\n",
    "}\n",
    "\n",
    "estimator = Estimator(role=role,\n",
    "                      entry_point='entry.py',\n",
    "                      source_dir='./src',\n",
    "                      base_job_name='single-node-alpaca-train',\n",
    "                      instance_count=instance_count,\n",
    "                      instance_type=instance_type,\n",
    "                      image_uri=image_uri,\n",
    "                      environment=environment,\n",
    "                      max_run=2*24*3600, #任务最大存续时间，默认2day，需要提交ticket提升quota最大28天\n",
    "                      keep_alive_period_in_seconds=3600, #warmpool，为下一次训练保持机器&镜像（滚动续期，最大1hour）；需要开quota。\n",
    "                      disable_profiler=True,\n",
    "                      debugger_hook_config=False)\n",
    "\n",
    "\n",
    "# # data in channel will be automatically copied to each node - /opt/ml/input/data/train1\n",
    "# # should change data_path param to above path in torchrun\n",
    "# input_channel = {'train1': 's3://llm-artifacts-us-east-1/datasets/alpaca-coig-mix/'}\n",
    "# estimator.fit(input_channel)\n",
    "\n",
    "estimator.fit()"
   ]
  },
  {
   "cell_type": "code",
   "execution_count": null,
   "id": "54fb4481-2520-43f6-9d8b-ba0d23476476",
   "metadata": {},
   "outputs": [],
   "source": [
    "rm -rf src"
   ]
  },
  {
   "cell_type": "code",
   "execution_count": null,
   "id": "c66172ec-d250-4526-b895-17c673f7f67f",
   "metadata": {},
   "outputs": [],
   "source": []
  }
 ],
 "metadata": {
  "availableInstances": [
   {
    "_defaultOrder": 0,
    "_isFastLaunch": true,
    "category": "General purpose",
    "gpuNum": 0,
    "hideHardwareSpecs": false,
    "memoryGiB": 4,
    "name": "ml.t3.medium",
    "vcpuNum": 2
   },
   {
    "_defaultOrder": 1,
    "_isFastLaunch": false,
    "category": "General purpose",
    "gpuNum": 0,
    "hideHardwareSpecs": false,
    "memoryGiB": 8,
    "name": "ml.t3.large",
    "vcpuNum": 2
   },
   {
    "_defaultOrder": 2,
    "_isFastLaunch": false,
    "category": "General purpose",
    "gpuNum": 0,
    "hideHardwareSpecs": false,
    "memoryGiB": 16,
    "name": "ml.t3.xlarge",
    "vcpuNum": 4
   },
   {
    "_defaultOrder": 3,
    "_isFastLaunch": false,
    "category": "General purpose",
    "gpuNum": 0,
    "hideHardwareSpecs": false,
    "memoryGiB": 32,
    "name": "ml.t3.2xlarge",
    "vcpuNum": 8
   },
   {
    "_defaultOrder": 4,
    "_isFastLaunch": true,
    "category": "General purpose",
    "gpuNum": 0,
    "hideHardwareSpecs": false,
    "memoryGiB": 8,
    "name": "ml.m5.large",
    "vcpuNum": 2
   },
   {
    "_defaultOrder": 5,
    "_isFastLaunch": false,
    "category": "General purpose",
    "gpuNum": 0,
    "hideHardwareSpecs": false,
    "memoryGiB": 16,
    "name": "ml.m5.xlarge",
    "vcpuNum": 4
   },
   {
    "_defaultOrder": 6,
    "_isFastLaunch": false,
    "category": "General purpose",
    "gpuNum": 0,
    "hideHardwareSpecs": false,
    "memoryGiB": 32,
    "name": "ml.m5.2xlarge",
    "vcpuNum": 8
   },
   {
    "_defaultOrder": 7,
    "_isFastLaunch": false,
    "category": "General purpose",
    "gpuNum": 0,
    "hideHardwareSpecs": false,
    "memoryGiB": 64,
    "name": "ml.m5.4xlarge",
    "vcpuNum": 16
   },
   {
    "_defaultOrder": 8,
    "_isFastLaunch": false,
    "category": "General purpose",
    "gpuNum": 0,
    "hideHardwareSpecs": false,
    "memoryGiB": 128,
    "name": "ml.m5.8xlarge",
    "vcpuNum": 32
   },
   {
    "_defaultOrder": 9,
    "_isFastLaunch": false,
    "category": "General purpose",
    "gpuNum": 0,
    "hideHardwareSpecs": false,
    "memoryGiB": 192,
    "name": "ml.m5.12xlarge",
    "vcpuNum": 48
   },
   {
    "_defaultOrder": 10,
    "_isFastLaunch": false,
    "category": "General purpose",
    "gpuNum": 0,
    "hideHardwareSpecs": false,
    "memoryGiB": 256,
    "name": "ml.m5.16xlarge",
    "vcpuNum": 64
   },
   {
    "_defaultOrder": 11,
    "_isFastLaunch": false,
    "category": "General purpose",
    "gpuNum": 0,
    "hideHardwareSpecs": false,
    "memoryGiB": 384,
    "name": "ml.m5.24xlarge",
    "vcpuNum": 96
   },
   {
    "_defaultOrder": 12,
    "_isFastLaunch": false,
    "category": "General purpose",
    "gpuNum": 0,
    "hideHardwareSpecs": false,
    "memoryGiB": 8,
    "name": "ml.m5d.large",
    "vcpuNum": 2
   },
   {
    "_defaultOrder": 13,
    "_isFastLaunch": false,
    "category": "General purpose",
    "gpuNum": 0,
    "hideHardwareSpecs": false,
    "memoryGiB": 16,
    "name": "ml.m5d.xlarge",
    "vcpuNum": 4
   },
   {
    "_defaultOrder": 14,
    "_isFastLaunch": false,
    "category": "General purpose",
    "gpuNum": 0,
    "hideHardwareSpecs": false,
    "memoryGiB": 32,
    "name": "ml.m5d.2xlarge",
    "vcpuNum": 8
   },
   {
    "_defaultOrder": 15,
    "_isFastLaunch": false,
    "category": "General purpose",
    "gpuNum": 0,
    "hideHardwareSpecs": false,
    "memoryGiB": 64,
    "name": "ml.m5d.4xlarge",
    "vcpuNum": 16
   },
   {
    "_defaultOrder": 16,
    "_isFastLaunch": false,
    "category": "General purpose",
    "gpuNum": 0,
    "hideHardwareSpecs": false,
    "memoryGiB": 128,
    "name": "ml.m5d.8xlarge",
    "vcpuNum": 32
   },
   {
    "_defaultOrder": 17,
    "_isFastLaunch": false,
    "category": "General purpose",
    "gpuNum": 0,
    "hideHardwareSpecs": false,
    "memoryGiB": 192,
    "name": "ml.m5d.12xlarge",
    "vcpuNum": 48
   },
   {
    "_defaultOrder": 18,
    "_isFastLaunch": false,
    "category": "General purpose",
    "gpuNum": 0,
    "hideHardwareSpecs": false,
    "memoryGiB": 256,
    "name": "ml.m5d.16xlarge",
    "vcpuNum": 64
   },
   {
    "_defaultOrder": 19,
    "_isFastLaunch": false,
    "category": "General purpose",
    "gpuNum": 0,
    "hideHardwareSpecs": false,
    "memoryGiB": 384,
    "name": "ml.m5d.24xlarge",
    "vcpuNum": 96
   },
   {
    "_defaultOrder": 20,
    "_isFastLaunch": false,
    "category": "General purpose",
    "gpuNum": 0,
    "hideHardwareSpecs": true,
    "memoryGiB": 0,
    "name": "ml.geospatial.interactive",
    "supportedImageNames": [
     "sagemaker-geospatial-v1-0"
    ],
    "vcpuNum": 0
   },
   {
    "_defaultOrder": 21,
    "_isFastLaunch": true,
    "category": "Compute optimized",
    "gpuNum": 0,
    "hideHardwareSpecs": false,
    "memoryGiB": 4,
    "name": "ml.c5.large",
    "vcpuNum": 2
   },
   {
    "_defaultOrder": 22,
    "_isFastLaunch": false,
    "category": "Compute optimized",
    "gpuNum": 0,
    "hideHardwareSpecs": false,
    "memoryGiB": 8,
    "name": "ml.c5.xlarge",
    "vcpuNum": 4
   },
   {
    "_defaultOrder": 23,
    "_isFastLaunch": false,
    "category": "Compute optimized",
    "gpuNum": 0,
    "hideHardwareSpecs": false,
    "memoryGiB": 16,
    "name": "ml.c5.2xlarge",
    "vcpuNum": 8
   },
   {
    "_defaultOrder": 24,
    "_isFastLaunch": false,
    "category": "Compute optimized",
    "gpuNum": 0,
    "hideHardwareSpecs": false,
    "memoryGiB": 32,
    "name": "ml.c5.4xlarge",
    "vcpuNum": 16
   },
   {
    "_defaultOrder": 25,
    "_isFastLaunch": false,
    "category": "Compute optimized",
    "gpuNum": 0,
    "hideHardwareSpecs": false,
    "memoryGiB": 72,
    "name": "ml.c5.9xlarge",
    "vcpuNum": 36
   },
   {
    "_defaultOrder": 26,
    "_isFastLaunch": false,
    "category": "Compute optimized",
    "gpuNum": 0,
    "hideHardwareSpecs": false,
    "memoryGiB": 96,
    "name": "ml.c5.12xlarge",
    "vcpuNum": 48
   },
   {
    "_defaultOrder": 27,
    "_isFastLaunch": false,
    "category": "Compute optimized",
    "gpuNum": 0,
    "hideHardwareSpecs": false,
    "memoryGiB": 144,
    "name": "ml.c5.18xlarge",
    "vcpuNum": 72
   },
   {
    "_defaultOrder": 28,
    "_isFastLaunch": false,
    "category": "Compute optimized",
    "gpuNum": 0,
    "hideHardwareSpecs": false,
    "memoryGiB": 192,
    "name": "ml.c5.24xlarge",
    "vcpuNum": 96
   },
   {
    "_defaultOrder": 29,
    "_isFastLaunch": true,
    "category": "Accelerated computing",
    "gpuNum": 1,
    "hideHardwareSpecs": false,
    "memoryGiB": 16,
    "name": "ml.g4dn.xlarge",
    "vcpuNum": 4
   },
   {
    "_defaultOrder": 30,
    "_isFastLaunch": false,
    "category": "Accelerated computing",
    "gpuNum": 1,
    "hideHardwareSpecs": false,
    "memoryGiB": 32,
    "name": "ml.g4dn.2xlarge",
    "vcpuNum": 8
   },
   {
    "_defaultOrder": 31,
    "_isFastLaunch": false,
    "category": "Accelerated computing",
    "gpuNum": 1,
    "hideHardwareSpecs": false,
    "memoryGiB": 64,
    "name": "ml.g4dn.4xlarge",
    "vcpuNum": 16
   },
   {
    "_defaultOrder": 32,
    "_isFastLaunch": false,
    "category": "Accelerated computing",
    "gpuNum": 1,
    "hideHardwareSpecs": false,
    "memoryGiB": 128,
    "name": "ml.g4dn.8xlarge",
    "vcpuNum": 32
   },
   {
    "_defaultOrder": 33,
    "_isFastLaunch": false,
    "category": "Accelerated computing",
    "gpuNum": 4,
    "hideHardwareSpecs": false,
    "memoryGiB": 192,
    "name": "ml.g4dn.12xlarge",
    "vcpuNum": 48
   },
   {
    "_defaultOrder": 34,
    "_isFastLaunch": false,
    "category": "Accelerated computing",
    "gpuNum": 1,
    "hideHardwareSpecs": false,
    "memoryGiB": 256,
    "name": "ml.g4dn.16xlarge",
    "vcpuNum": 64
   },
   {
    "_defaultOrder": 35,
    "_isFastLaunch": false,
    "category": "Accelerated computing",
    "gpuNum": 1,
    "hideHardwareSpecs": false,
    "memoryGiB": 61,
    "name": "ml.p3.2xlarge",
    "vcpuNum": 8
   },
   {
    "_defaultOrder": 36,
    "_isFastLaunch": false,
    "category": "Accelerated computing",
    "gpuNum": 4,
    "hideHardwareSpecs": false,
    "memoryGiB": 244,
    "name": "ml.p3.8xlarge",
    "vcpuNum": 32
   },
   {
    "_defaultOrder": 37,
    "_isFastLaunch": false,
    "category": "Accelerated computing",
    "gpuNum": 8,
    "hideHardwareSpecs": false,
    "memoryGiB": 488,
    "name": "ml.p3.16xlarge",
    "vcpuNum": 64
   },
   {
    "_defaultOrder": 38,
    "_isFastLaunch": false,
    "category": "Accelerated computing",
    "gpuNum": 8,
    "hideHardwareSpecs": false,
    "memoryGiB": 768,
    "name": "ml.p3dn.24xlarge",
    "vcpuNum": 96
   },
   {
    "_defaultOrder": 39,
    "_isFastLaunch": false,
    "category": "Memory Optimized",
    "gpuNum": 0,
    "hideHardwareSpecs": false,
    "memoryGiB": 16,
    "name": "ml.r5.large",
    "vcpuNum": 2
   },
   {
    "_defaultOrder": 40,
    "_isFastLaunch": false,
    "category": "Memory Optimized",
    "gpuNum": 0,
    "hideHardwareSpecs": false,
    "memoryGiB": 32,
    "name": "ml.r5.xlarge",
    "vcpuNum": 4
   },
   {
    "_defaultOrder": 41,
    "_isFastLaunch": false,
    "category": "Memory Optimized",
    "gpuNum": 0,
    "hideHardwareSpecs": false,
    "memoryGiB": 64,
    "name": "ml.r5.2xlarge",
    "vcpuNum": 8
   },
   {
    "_defaultOrder": 42,
    "_isFastLaunch": false,
    "category": "Memory Optimized",
    "gpuNum": 0,
    "hideHardwareSpecs": false,
    "memoryGiB": 128,
    "name": "ml.r5.4xlarge",
    "vcpuNum": 16
   },
   {
    "_defaultOrder": 43,
    "_isFastLaunch": false,
    "category": "Memory Optimized",
    "gpuNum": 0,
    "hideHardwareSpecs": false,
    "memoryGiB": 256,
    "name": "ml.r5.8xlarge",
    "vcpuNum": 32
   },
   {
    "_defaultOrder": 44,
    "_isFastLaunch": false,
    "category": "Memory Optimized",
    "gpuNum": 0,
    "hideHardwareSpecs": false,
    "memoryGiB": 384,
    "name": "ml.r5.12xlarge",
    "vcpuNum": 48
   },
   {
    "_defaultOrder": 45,
    "_isFastLaunch": false,
    "category": "Memory Optimized",
    "gpuNum": 0,
    "hideHardwareSpecs": false,
    "memoryGiB": 512,
    "name": "ml.r5.16xlarge",
    "vcpuNum": 64
   },
   {
    "_defaultOrder": 46,
    "_isFastLaunch": false,
    "category": "Memory Optimized",
    "gpuNum": 0,
    "hideHardwareSpecs": false,
    "memoryGiB": 768,
    "name": "ml.r5.24xlarge",
    "vcpuNum": 96
   },
   {
    "_defaultOrder": 47,
    "_isFastLaunch": false,
    "category": "Accelerated computing",
    "gpuNum": 1,
    "hideHardwareSpecs": false,
    "memoryGiB": 16,
    "name": "ml.g5.xlarge",
    "vcpuNum": 4
   },
   {
    "_defaultOrder": 48,
    "_isFastLaunch": false,
    "category": "Accelerated computing",
    "gpuNum": 1,
    "hideHardwareSpecs": false,
    "memoryGiB": 32,
    "name": "ml.g5.2xlarge",
    "vcpuNum": 8
   },
   {
    "_defaultOrder": 49,
    "_isFastLaunch": false,
    "category": "Accelerated computing",
    "gpuNum": 1,
    "hideHardwareSpecs": false,
    "memoryGiB": 64,
    "name": "ml.g5.4xlarge",
    "vcpuNum": 16
   },
   {
    "_defaultOrder": 50,
    "_isFastLaunch": false,
    "category": "Accelerated computing",
    "gpuNum": 1,
    "hideHardwareSpecs": false,
    "memoryGiB": 128,
    "name": "ml.g5.8xlarge",
    "vcpuNum": 32
   },
   {
    "_defaultOrder": 51,
    "_isFastLaunch": false,
    "category": "Accelerated computing",
    "gpuNum": 1,
    "hideHardwareSpecs": false,
    "memoryGiB": 256,
    "name": "ml.g5.16xlarge",
    "vcpuNum": 64
   },
   {
    "_defaultOrder": 52,
    "_isFastLaunch": false,
    "category": "Accelerated computing",
    "gpuNum": 4,
    "hideHardwareSpecs": false,
    "memoryGiB": 192,
    "name": "ml.g5.12xlarge",
    "vcpuNum": 48
   },
   {
    "_defaultOrder": 53,
    "_isFastLaunch": false,
    "category": "Accelerated computing",
    "gpuNum": 4,
    "hideHardwareSpecs": false,
    "memoryGiB": 384,
    "name": "ml.g5.24xlarge",
    "vcpuNum": 96
   },
   {
    "_defaultOrder": 54,
    "_isFastLaunch": false,
    "category": "Accelerated computing",
    "gpuNum": 8,
    "hideHardwareSpecs": false,
    "memoryGiB": 768,
    "name": "ml.g5.48xlarge",
    "vcpuNum": 192
   },
   {
    "_defaultOrder": 55,
    "_isFastLaunch": false,
    "category": "Accelerated computing",
    "gpuNum": 8,
    "hideHardwareSpecs": false,
    "memoryGiB": 1152,
    "name": "ml.p4d.24xlarge",
    "vcpuNum": 96
   },
   {
    "_defaultOrder": 56,
    "_isFastLaunch": false,
    "category": "Accelerated computing",
    "gpuNum": 8,
    "hideHardwareSpecs": false,
    "memoryGiB": 1152,
    "name": "ml.p4de.24xlarge",
    "vcpuNum": 96
   }
  ],
  "instance_type": "ml.m5.xlarge",
  "kernelspec": {
   "display_name": "conda_python3",
   "language": "python",
   "name": "conda_python3"
  },
  "language_info": {
   "codemirror_mode": {
    "name": "ipython",
    "version": 3
   },
   "file_extension": ".py",
   "mimetype": "text/x-python",
   "name": "python",
   "nbconvert_exporter": "python",
   "pygments_lexer": "ipython3",
   "version": "3.10.10"
  }
 },
 "nbformat": 4,
 "nbformat_minor": 5
}
